{
 "cells": [
  {
   "cell_type": "markdown",
   "id": "63c8a3aa",
   "metadata": {},
   "source": [
    "<h1>Evolutionary Information Theory</h1>"
   ]
  },
  {
   "cell_type": "markdown",
   "id": "a9313eb9",
   "metadata": {},
   "source": [
    "<h2>Introduction</h2>\n",
    "The purpose of this project is to merge evolutionary game theory with concepts from information theory. Specifically, Shannon's information entropy will be used as a metric to determine the success of agents over time (the payoff). In other words, this will test how how competitive and cooperative systems behave when information must be preserved over multiple rounds.\n",
    "\n",
    "While this is currently theoretical, it could potential have applications in linguistics, to help understand how languages evolve while continuing to convery the same information; political science and academic research, to understand the spread of false information among trusted sources; or even in biology, helping understand how DNA can survive unchanged throughtout generations.\n",
    "\n",
    "Before we dive into these potential applications, we must first understand the theoretical foundations of information theory."
   ]
  },
  {
   "cell_type": "markdown",
   "id": "4159b8a8",
   "metadata": {},
   "source": [
    "<h2>Shannon Entropy</h2>\n",
    "For a random variable $X$, the entropy is\n",
    "$$ -H(X) := -\\sum_{x \\in X}p(x)\\log p(x) $$"
   ]
  },
  {
   "cell_type": "markdown",
   "id": "c15c5239",
   "metadata": {},
   "source": [
    "<h2>Hawk-Dove and Shannon Entropy</h2>\n",
    "The traditional Hawk-Dove ... The payoff matrix would look as follows: \n",
    "\n",
    "|  | Hawk | Dove |\n",
    "| --- | --- | --- |\n",
    "| Hawk | P1 | P2 |\n",
    "| Dove | P3 | P4 |\n",
    "\n",
    "This is a test edit.\n"
   ]
  },
  {
   "cell_type": "markdown",
   "id": "9761998f",
   "metadata": {},
   "source": [
    "<h2>References</h2>\n",
    "\n",
    "- *The Selfish Gene*, Richard Dawkins\n",
    "- *Evolutionary Games and Population Genetics*, Steve Baigent\n",
    "- *The Science of Information: From Language to Black Holes*, The Great Courses Plus"
   ]
  },
  {
   "cell_type": "markdown",
   "id": "59a49ee0",
   "metadata": {},
   "source": [
    "<h2>Note</h2>\n",
    "This was the original idea for my undergraduate dissertation. However, I did not have enough time to explore the mathematics underlying this at the time."
   ]
  }
 ],
 "metadata": {
  "kernelspec": {
   "display_name": "Python 3 (ipykernel)",
   "language": "python",
   "name": "python3"
  },
  "language_info": {
   "codemirror_mode": {
    "name": "ipython",
    "version": 3
   },
   "file_extension": ".py",
   "mimetype": "text/x-python",
   "name": "python",
   "nbconvert_exporter": "python",
   "pygments_lexer": "ipython3",
   "version": "3.9.7"
  }
 },
 "nbformat": 4,
 "nbformat_minor": 5
}
